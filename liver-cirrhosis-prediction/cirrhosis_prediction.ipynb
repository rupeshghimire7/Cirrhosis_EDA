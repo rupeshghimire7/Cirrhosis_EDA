{
  "nbformat": 4,
  "nbformat_minor": 0,
  "metadata": {
    "colab": {
      "provenance": [],
      "authorship_tag": "ABX9TyM9g+n9gO5ckPMbzH5zwvrb",
      "include_colab_link": true
    },
    "kernelspec": {
      "name": "python3",
      "display_name": "Python 3"
    },
    "language_info": {
      "name": "python"
    }
  },
  "cells": [
    {
      "cell_type": "markdown",
      "metadata": {
        "id": "view-in-github",
        "colab_type": "text"
      },
      "source": [
        "<a href=\"https://colab.research.google.com/github/bimarshak7/liver-cirrhosis-prediction/blob/main/cirrhosis_prediction.ipynb\" target=\"_parent\"><img src=\"https://colab.research.google.com/assets/colab-badge.svg\" alt=\"Open In Colab\"/></a>"
      ]
    },
    {
      "cell_type": "markdown",
      "source": [
        "# Cirrhosis Prediction\n",
        "\n",
        "**SCENARIO**  \n",
        "Cirrhosis is a chronic liver disease that occurs when healthy liver tissue is replaced by scar tissue, leading to a progressive loss of liver function. The scar tissue that forms in the liver can block blood flow through the liver and prevent it from working properly.Cirrhosis can have a number of causes, including chronic hepatitis B or C, alcohol abuse, nonalcoholic fatty liver disease, and autoimmune disorders. Symptoms of cirrhosis can include fatigue, jaundice, itching, bruising easily, and abdominal swelling.\n",
        "\n",
        "There is no cure for cirrhosis, but treatment can help manage the symptoms and slow the progression of the disease. Diagnosis of this disease includes procedures like blood tests, medical history analysis, physical examination, imaging studies and so on. The fatal stages of cirrhosis are easily diagnosed but at this stage the liver is severely damaged and is no longer able to function properly.\n",
        "\n",
        "Early diagnosis is necessary to save the liver of a patient. Liver biopsy can identify cirrhosis at early stage but it require to operate on the patient and also is time consuming. So, there is a necessity of a intelligent system which could identify cirrhosis even at earlier stages with the help of different biomarkers.\n",
        "\n",
        "\n",
        "**PROBLEM STATEMENT**  \n",
        "In this project our goal is to identify liver cirrhosis at different stages. This problem is formulated as classification problem to identify cirrhosis at four different stages (from 1 to 4) using different biomarkers."
      ],
      "metadata": {
        "id": "cajPPv24-PKf"
      }
    },
    {
      "cell_type": "markdown",
      "source": [
        "**DATASET**  \n",
        "The dataset used contains the information collected from the Mayo Clinic trial in primary biliary cirrhosis (PBC) of the liver conducted between 1974 and 1984.\n",
        "A total of 424 PBC patients, referred to Mayo Clinic during that ten-year interval, met eligibility criteria for the randomized placebo-controlled trial of the drug D-penicillamine. The first 312 cases in the dataset participated in the randomized trial and contain largely complete data. The additional 112 cases did not participate in the clinical trial but consented to have basic measurements recorded and to be followed for survival. Six of those cases were lost to follow-up shortly after diagnosis, so the data here are on an additional 106 cases as well as the 312 randomized participants.\n",
        "\n",
        "**Attribute Information**  \n",
        "1. ID: unique identifier  \n",
        "2. N_Days: number of days between registration and the earlier of death, transplantation, or study analysis time in July 1986  \n",
        "3. Status: status of the patient C (censored), CL (censored due to liver tx), or D (death)  \n",
        "4. Drug: type of drug D-penicillamine or placebo  \n",
        "5. Age: age in [days]  \n",
        "6. Sex: M (male) or F (female)  \n",
        "7. Ascites: presence of ascites N (No) or Y (Yes)  \n",
        "8. Hepatomegaly: presence of hepatomegaly N (No) or Y (Yes)  \n",
        "9. Spiders: presence of spiders N (No) or Y (Yes)  \n",
        "10. Edema: presence of edema N (no edema and no diuretic therapy for edema), S (edema present without diuretics, or edema resolved by diuretics), or Y (edema despite diuretic therapy)  \n",
        "11. Bilirubin: serum bilirubin in [mg/dl]  \n",
        "12. Cholesterol: serum cholesterol in [mg/dl]  \n",
        "13. Albumin: albumin in [gm/dl]  \n",
        "14. Copper: urine copper in [ug/day]  \n",
        "15. Alk_Phos: alkaline phosphatase in [U/liter]  \n",
        "16. SGOT: SGOT in [U/ml]  \n",
        "17. Triglycerides: triglicerides in [mg/dl]  \n",
        "18. Platelets: platelets per cubic [ml/1000]  \n",
        "19. Prothrombin: prothrombin time in seconds [s]  \n",
        "20. Stage: histologic stage of disease (1, 2, 3, or 4)"
      ],
      "metadata": {
        "id": "xYmUIIFV-TgW"
      }
    },
    {
      "cell_type": "code",
      "execution_count": 4,
      "metadata": {
        "id": "_fq30iaoLr8M"
      },
      "outputs": [],
      "source": [
        "# import necessary libraries\n",
        "import numpy as np\n",
        "import pandas as pd\n",
        "import matplotlib.pyplot as plt\n",
        "import seaborn as sns\n",
        "from imblearn.over_sampling import SMOTE\n",
        "from sklearn.preprocessing import StandardScaler,MinMaxScaler\n",
        "from sklearn.model_selection import train_test_split"
      ]
    },
    {
      "cell_type": "code",
      "source": [
        "#snippet to mount drive and copy kaggle API keys\n",
        "# palge you kaggle keys at MyDrive/Colab Notebooks/ as kaggle.json\n",
        "from google.colab import drive\n",
        "drive.mount('/content/drive')\n",
        "! mkdir ~/.kaggle\n",
        "!cp \"/content/drive/MyDrive/Colab Notebooks/kaggle.json\" ~/.kaggle/kaggle.json\n",
        "! chmod 600 ~/.kaggle/kaggle.json"
      ],
      "metadata": {
        "colab": {
          "base_uri": "https://localhost:8080/"
        },
        "id": "uPEq0R0kOsnD",
        "outputId": "aeba126d-016e-48a8-ecf0-c750c65ec2c9"
      },
      "execution_count": 2,
      "outputs": [
        {
          "output_type": "stream",
          "name": "stdout",
          "text": [
            "Mounted at /content/drive\n"
          ]
        }
      ]
    },
    {
      "cell_type": "code",
      "source": [
        "  # download dataset from kaggle and unzip\n",
        "!kaggle datasets download -d fedesoriano/cirrhosis-prediction-dataset\n",
        "!unzip -q *.zip"
      ],
      "metadata": {
        "colab": {
          "base_uri": "https://localhost:8080/"
        },
        "id": "UgRfddMTOtyI",
        "outputId": "2cddb9c7-d77e-42b3-cc12-820968c5023c"
      },
      "execution_count": 3,
      "outputs": [
        {
          "output_type": "stream",
          "name": "stdout",
          "text": [
            "Downloading cirrhosis-prediction-dataset.zip to /content\n",
            "\r  0% 0.00/11.0k [00:00<?, ?B/s]\n",
            "\r100% 11.0k/11.0k [00:00<00:00, 24.6MB/s]\n"
          ]
        }
      ]
    },
    {
      "cell_type": "markdown",
      "source": [
        "#Learn the data"
      ],
      "metadata": {
        "id": "wcYW2UOI-Xdb"
      }
    },
    {
      "cell_type": "code",
      "source": [
        "# load dataset as pandas dataframe\n",
        "cir = pd.read_csv('/content/cirrhosis.csv')\n",
        "# cir.head()"
      ],
      "metadata": {
        "id": "iQqjSjbvO3Ev"
      },
      "execution_count": 5,
      "outputs": []
    },
    {
      "cell_type": "code",
      "source": [
        "# After observing data using embedding projector, we found that data for stage 1(healthy liver) is very noisy, so we will stick with only stage 2,3 and 4 \n",
        "cir = cir[cir[\"Stage\"]!=1]"
      ],
      "metadata": {
        "id": "vNO9xiVzvOSB"
      },
      "execution_count": 6,
      "outputs": []
    },
    {
      "cell_type": "code",
      "source": [
        "#drop irrelevant columns\n",
        "cir.drop(['ID'],axis=1,inplace=True)"
      ],
      "metadata": {
        "id": "3nJOaxAPO5sa"
      },
      "execution_count": 7,
      "outputs": []
    },
    {
      "cell_type": "code",
      "source": [
        "# convert age to years from days\n",
        "cir[\"Age\"] = cir[\"Age\"]/365"
      ],
      "metadata": {
        "id": "QEoJZYg_KHiW"
      },
      "execution_count": 8,
      "outputs": []
    },
    {
      "cell_type": "code",
      "source": [
        "# look at the possible values in categorical columns\n",
        "for col in cir.columns:\n",
        "  if(cir[col].dtype==\"O\"):\n",
        "    print(col,\": \",cir[col].unique())"
      ],
      "metadata": {
        "colab": {
          "base_uri": "https://localhost:8080/"
        },
        "id": "7J27EjaKPBHk",
        "outputId": "146141d9-782c-46e3-c5a7-510cbda1f9b2"
      },
      "execution_count": 9,
      "outputs": [
        {
          "output_type": "stream",
          "name": "stdout",
          "text": [
            "Status :  ['D' 'C' 'CL']\n",
            "Drug :  ['D-penicillamine' 'Placebo' nan]\n",
            "Sex :  ['F' 'M']\n",
            "Ascites :  ['Y' 'N' nan]\n",
            "Hepatomegaly :  ['Y' 'N' nan]\n",
            "Spiders :  ['Y' 'N' nan]\n",
            "Edema :  ['Y' 'N' 'S']\n"
          ]
        }
      ]
    },
    {
      "cell_type": "code",
      "source": [
        "# short glance of numerical data\n",
        "cir.describe().T.style.background_gradient(cmap = 'BuGn')"
      ],
      "metadata": {
        "colab": {
          "base_uri": "https://localhost:8080/",
          "height": 426
        },
        "id": "t2hpUjCfKKeZ",
        "outputId": "4285bf92-8d4f-43a9-b3a1-01a3c3568fa7"
      },
      "execution_count": 10,
      "outputs": [
        {
          "output_type": "execute_result",
          "data": {
            "text/plain": [
              "<pandas.io.formats.style.Styler at 0x7f25d9e915a0>"
            ],
            "text/html": [
              "<style type=\"text/css\">\n",
              "#T_4a78d_row0_col0, #T_4a78d_row0_col4, #T_4a78d_row0_col5, #T_4a78d_row0_col6, #T_4a78d_row1_col0, #T_4a78d_row2_col0, #T_4a78d_row4_col0, #T_4a78d_row6_col1, #T_4a78d_row6_col2, #T_4a78d_row6_col3, #T_4a78d_row6_col7 {\n",
              "  background-color: #00441b;\n",
              "  color: #f1f1f1;\n",
              "}\n",
              "#T_4a78d_row0_col1 {\n",
              "  background-color: #005723;\n",
              "  color: #f1f1f1;\n",
              "}\n",
              "#T_4a78d_row0_col2 {\n",
              "  background-color: #64c1a2;\n",
              "  color: #000000;\n",
              "}\n",
              "#T_4a78d_row0_col3 {\n",
              "  background-color: #e2f4f7;\n",
              "  color: #000000;\n",
              "}\n",
              "#T_4a78d_row0_col7 {\n",
              "  background-color: #a5ddd0;\n",
              "  color: #000000;\n",
              "}\n",
              "#T_4a78d_row1_col1, #T_4a78d_row1_col6, #T_4a78d_row7_col2 {\n",
              "  background-color: #f4fbfc;\n",
              "  color: #000000;\n",
              "}\n",
              "#T_4a78d_row1_col2, #T_4a78d_row1_col7, #T_4a78d_row4_col3, #T_4a78d_row10_col4, #T_4a78d_row10_col5, #T_4a78d_row11_col3 {\n",
              "  background-color: #f6fcfd;\n",
              "  color: #000000;\n",
              "}\n",
              "#T_4a78d_row1_col3, #T_4a78d_row7_col3 {\n",
              "  background-color: #eaf7fa;\n",
              "  color: #000000;\n",
              "}\n",
              "#T_4a78d_row1_col4, #T_4a78d_row5_col2, #T_4a78d_row5_col5, #T_4a78d_row5_col7, #T_4a78d_row8_col7, #T_4a78d_row9_col2 {\n",
              "  background-color: #f1fafc;\n",
              "  color: #000000;\n",
              "}\n",
              "#T_4a78d_row1_col5, #T_4a78d_row8_col2, #T_4a78d_row10_col3 {\n",
              "  background-color: #f3fafc;\n",
              "  color: #000000;\n",
              "}\n",
              "#T_4a78d_row2_col1, #T_4a78d_row2_col2, #T_4a78d_row2_col3, #T_4a78d_row2_col4, #T_4a78d_row2_col5, #T_4a78d_row2_col6, #T_4a78d_row2_col7, #T_4a78d_row4_col1, #T_4a78d_row4_col2, #T_4a78d_row4_col4, #T_4a78d_row4_col5, #T_4a78d_row4_col6, #T_4a78d_row4_col7, #T_4a78d_row8_col0, #T_4a78d_row10_col1, #T_4a78d_row10_col2, #T_4a78d_row10_col6, #T_4a78d_row10_col7, #T_4a78d_row11_col1, #T_4a78d_row11_col2, #T_4a78d_row11_col4, #T_4a78d_row11_col5, #T_4a78d_row11_col6, #T_4a78d_row11_col7 {\n",
              "  background-color: #f7fcfd;\n",
              "  color: #000000;\n",
              "}\n",
              "#T_4a78d_row3_col0 {\n",
              "  background-color: #f5fbfc;\n",
              "  color: #000000;\n",
              "}\n",
              "#T_4a78d_row3_col1, #T_4a78d_row3_col5 {\n",
              "  background-color: #d9f1f0;\n",
              "  color: #000000;\n",
              "}\n",
              "#T_4a78d_row3_col2 {\n",
              "  background-color: #e8f6fa;\n",
              "  color: #000000;\n",
              "}\n",
              "#T_4a78d_row3_col3 {\n",
              "  background-color: #88d1bd;\n",
              "  color: #000000;\n",
              "}\n",
              "#T_4a78d_row3_col4 {\n",
              "  background-color: #cfede8;\n",
              "  color: #000000;\n",
              "}\n",
              "#T_4a78d_row3_col6 {\n",
              "  background-color: #dff3f5;\n",
              "  color: #000000;\n",
              "}\n",
              "#T_4a78d_row3_col7, #T_4a78d_row9_col1, #T_4a78d_row9_col6 {\n",
              "  background-color: #e5f5f9;\n",
              "  color: #000000;\n",
              "}\n",
              "#T_4a78d_row5_col0 {\n",
              "  background-color: #d7f0ee;\n",
              "  color: #000000;\n",
              "}\n",
              "#T_4a78d_row5_col1, #T_4a78d_row5_col6, #T_4a78d_row9_col7 {\n",
              "  background-color: #f0f9fb;\n",
              "  color: #000000;\n",
              "}\n",
              "#T_4a78d_row5_col3 {\n",
              "  background-color: #f5fbfd;\n",
              "  color: #000000;\n",
              "}\n",
              "#T_4a78d_row5_col4, #T_4a78d_row7_col7 {\n",
              "  background-color: #f2fafc;\n",
              "  color: #000000;\n",
              "}\n",
              "#T_4a78d_row6_col0, #T_4a78d_row7_col0, #T_4a78d_row9_col3 {\n",
              "  background-color: #d4efec;\n",
              "  color: #000000;\n",
              "}\n",
              "#T_4a78d_row6_col4 {\n",
              "  background-color: #067230;\n",
              "  color: #f1f1f1;\n",
              "}\n",
              "#T_4a78d_row6_col5 {\n",
              "  background-color: #208843;\n",
              "  color: #f1f1f1;\n",
              "}\n",
              "#T_4a78d_row6_col6 {\n",
              "  background-color: #1c8540;\n",
              "  color: #f1f1f1;\n",
              "}\n",
              "#T_4a78d_row7_col1, #T_4a78d_row7_col6, #T_4a78d_row8_col1, #T_4a78d_row8_col6 {\n",
              "  background-color: #eff9fb;\n",
              "  color: #000000;\n",
              "}\n",
              "#T_4a78d_row7_col4 {\n",
              "  background-color: #ecf8fb;\n",
              "  color: #000000;\n",
              "}\n",
              "#T_4a78d_row7_col5 {\n",
              "  background-color: #edf8fb;\n",
              "  color: #000000;\n",
              "}\n",
              "#T_4a78d_row8_col3 {\n",
              "  background-color: #e7f6f9;\n",
              "  color: #000000;\n",
              "}\n",
              "#T_4a78d_row8_col4 {\n",
              "  background-color: #ecf8fa;\n",
              "  color: #000000;\n",
              "}\n",
              "#T_4a78d_row8_col5 {\n",
              "  background-color: #eef8fb;\n",
              "  color: #000000;\n",
              "}\n",
              "#T_4a78d_row9_col0 {\n",
              "  background-color: #005c25;\n",
              "  color: #f1f1f1;\n",
              "}\n",
              "#T_4a78d_row9_col4 {\n",
              "  background-color: #dcf2f2;\n",
              "  color: #000000;\n",
              "}\n",
              "#T_4a78d_row9_col5 {\n",
              "  background-color: #e1f4f6;\n",
              "  color: #000000;\n",
              "}\n",
              "#T_4a78d_row10_col0 {\n",
              "  background-color: #00451c;\n",
              "  color: #f1f1f1;\n",
              "}\n",
              "#T_4a78d_row11_col0 {\n",
              "  background-color: #005221;\n",
              "  color: #f1f1f1;\n",
              "}\n",
              "</style>\n",
              "<table id=\"T_4a78d\" class=\"dataframe\">\n",
              "  <thead>\n",
              "    <tr>\n",
              "      <th class=\"blank level0\" >&nbsp;</th>\n",
              "      <th id=\"T_4a78d_level0_col0\" class=\"col_heading level0 col0\" >count</th>\n",
              "      <th id=\"T_4a78d_level0_col1\" class=\"col_heading level0 col1\" >mean</th>\n",
              "      <th id=\"T_4a78d_level0_col2\" class=\"col_heading level0 col2\" >std</th>\n",
              "      <th id=\"T_4a78d_level0_col3\" class=\"col_heading level0 col3\" >min</th>\n",
              "      <th id=\"T_4a78d_level0_col4\" class=\"col_heading level0 col4\" >25%</th>\n",
              "      <th id=\"T_4a78d_level0_col5\" class=\"col_heading level0 col5\" >50%</th>\n",
              "      <th id=\"T_4a78d_level0_col6\" class=\"col_heading level0 col6\" >75%</th>\n",
              "      <th id=\"T_4a78d_level0_col7\" class=\"col_heading level0 col7\" >max</th>\n",
              "    </tr>\n",
              "  </thead>\n",
              "  <tbody>\n",
              "    <tr>\n",
              "      <th id=\"T_4a78d_level0_row0\" class=\"row_heading level0 row0\" >N_Days</th>\n",
              "      <td id=\"T_4a78d_row0_col0\" class=\"data row0 col0\" >397.000000</td>\n",
              "      <td id=\"T_4a78d_row0_col1\" class=\"data row0 col1\" >1878.795970</td>\n",
              "      <td id=\"T_4a78d_row0_col2\" class=\"data row0 col2\" >1092.872342</td>\n",
              "      <td id=\"T_4a78d_row0_col3\" class=\"data row0 col3\" >41.000000</td>\n",
              "      <td id=\"T_4a78d_row0_col4\" class=\"data row0 col4\" >1080.000000</td>\n",
              "      <td id=\"T_4a78d_row0_col5\" class=\"data row0 col5\" >1682.000000</td>\n",
              "      <td id=\"T_4a78d_row0_col6\" class=\"data row0 col6\" >2574.000000</td>\n",
              "      <td id=\"T_4a78d_row0_col7\" class=\"data row0 col7\" >4795.000000</td>\n",
              "    </tr>\n",
              "    <tr>\n",
              "      <th id=\"T_4a78d_level0_row1\" class=\"row_heading level0 row1\" >Age</th>\n",
              "      <td id=\"T_4a78d_row1_col0\" class=\"data row1 col0\" >397.000000</td>\n",
              "      <td id=\"T_4a78d_row1_col1\" class=\"data row1 col1\" >50.982768</td>\n",
              "      <td id=\"T_4a78d_row1_col2\" class=\"data row1 col2\" >10.470472</td>\n",
              "      <td id=\"T_4a78d_row1_col3\" class=\"data row1 col3\" >26.295890</td>\n",
              "      <td id=\"T_4a78d_row1_col4\" class=\"data row1 col4\" >43.030137</td>\n",
              "      <td id=\"T_4a78d_row1_col5\" class=\"data row1 col5\" >51.235616</td>\n",
              "      <td id=\"T_4a78d_row1_col6\" class=\"data row1 col6\" >58.375342</td>\n",
              "      <td id=\"T_4a78d_row1_col7\" class=\"data row1 col7\" >78.493151</td>\n",
              "    </tr>\n",
              "    <tr>\n",
              "      <th id=\"T_4a78d_level0_row2\" class=\"row_heading level0 row2\" >Bilirubin</th>\n",
              "      <td id=\"T_4a78d_row2_col0\" class=\"data row2 col0\" >397.000000</td>\n",
              "      <td id=\"T_4a78d_row2_col1\" class=\"data row2 col1\" >3.319144</td>\n",
              "      <td id=\"T_4a78d_row2_col2\" class=\"data row2 col2\" >4.483453</td>\n",
              "      <td id=\"T_4a78d_row2_col3\" class=\"data row2 col3\" >0.300000</td>\n",
              "      <td id=\"T_4a78d_row2_col4\" class=\"data row2 col4\" >0.800000</td>\n",
              "      <td id=\"T_4a78d_row2_col5\" class=\"data row2 col5\" >1.400000</td>\n",
              "      <td id=\"T_4a78d_row2_col6\" class=\"data row2 col6\" >3.500000</td>\n",
              "      <td id=\"T_4a78d_row2_col7\" class=\"data row2 col7\" >28.000000</td>\n",
              "    </tr>\n",
              "    <tr>\n",
              "      <th id=\"T_4a78d_level0_row3\" class=\"row_heading level0 row3\" >Cholesterol</th>\n",
              "      <td id=\"T_4a78d_row3_col0\" class=\"data row3 col0\" >271.000000</td>\n",
              "      <td id=\"T_4a78d_row3_col1\" class=\"data row3 col1\" >374.387454</td>\n",
              "      <td id=\"T_4a78d_row3_col2\" class=\"data row3 col2\" >234.986669</td>\n",
              "      <td id=\"T_4a78d_row3_col3\" class=\"data row3 col3\" >120.000000</td>\n",
              "      <td id=\"T_4a78d_row3_col4\" class=\"data row3 col4\" >255.500000</td>\n",
              "      <td id=\"T_4a78d_row3_col5\" class=\"data row3 col5\" >316.000000</td>\n",
              "      <td id=\"T_4a78d_row3_col6\" class=\"data row3 col6\" >402.000000</td>\n",
              "      <td id=\"T_4a78d_row3_col7\" class=\"data row3 col7\" >1775.000000</td>\n",
              "    </tr>\n",
              "    <tr>\n",
              "      <th id=\"T_4a78d_level0_row4\" class=\"row_heading level0 row4\" >Albumin</th>\n",
              "      <td id=\"T_4a78d_row4_col0\" class=\"data row4 col0\" >397.000000</td>\n",
              "      <td id=\"T_4a78d_row4_col1\" class=\"data row4 col1\" >3.486448</td>\n",
              "      <td id=\"T_4a78d_row4_col2\" class=\"data row4 col2\" >0.426161</td>\n",
              "      <td id=\"T_4a78d_row4_col3\" class=\"data row4 col3\" >1.960000</td>\n",
              "      <td id=\"T_4a78d_row4_col4\" class=\"data row4 col4\" >3.230000</td>\n",
              "      <td id=\"T_4a78d_row4_col5\" class=\"data row4 col5\" >3.520000</td>\n",
              "      <td id=\"T_4a78d_row4_col6\" class=\"data row4 col6\" >3.760000</td>\n",
              "      <td id=\"T_4a78d_row4_col7\" class=\"data row4 col7\" >4.640000</td>\n",
              "    </tr>\n",
              "    <tr>\n",
              "      <th id=\"T_4a78d_level0_row5\" class=\"row_heading level0 row5\" >Copper</th>\n",
              "      <td id=\"T_4a78d_row5_col0\" class=\"data row5 col0\" >294.000000</td>\n",
              "      <td id=\"T_4a78d_row5_col1\" class=\"data row5 col1\" >99.544218</td>\n",
              "      <td id=\"T_4a78d_row5_col2\" class=\"data row5 col2\" >86.871152</td>\n",
              "      <td id=\"T_4a78d_row5_col3\" class=\"data row5 col3\" >4.000000</td>\n",
              "      <td id=\"T_4a78d_row5_col4\" class=\"data row5 col4\" >42.000000</td>\n",
              "      <td id=\"T_4a78d_row5_col5\" class=\"data row5 col5\" >73.500000</td>\n",
              "      <td id=\"T_4a78d_row5_col6\" class=\"data row5 col6\" >127.750000</td>\n",
              "      <td id=\"T_4a78d_row5_col7\" class=\"data row5 col7\" >588.000000</td>\n",
              "    </tr>\n",
              "    <tr>\n",
              "      <th id=\"T_4a78d_level0_row6\" class=\"row_heading level0 row6\" >Alk_Phos</th>\n",
              "      <td id=\"T_4a78d_row6_col0\" class=\"data row6 col0\" >296.000000</td>\n",
              "      <td id=\"T_4a78d_row6_col1\" class=\"data row6 col1\" >1998.247297</td>\n",
              "      <td id=\"T_4a78d_row6_col2\" class=\"data row6 col2\" >2154.613151</td>\n",
              "      <td id=\"T_4a78d_row6_col3\" class=\"data row6 col3\" >289.000000</td>\n",
              "      <td id=\"T_4a78d_row6_col4\" class=\"data row6 col4\" >922.500000</td>\n",
              "      <td id=\"T_4a78d_row6_col5\" class=\"data row6 col5\" >1277.500000</td>\n",
              "      <td id=\"T_4a78d_row6_col6\" class=\"data row6 col6\" >1998.500000</td>\n",
              "      <td id=\"T_4a78d_row6_col7\" class=\"data row6 col7\" >13862.400000</td>\n",
              "    </tr>\n",
              "    <tr>\n",
              "      <th id=\"T_4a78d_level0_row7\" class=\"row_heading level0 row7\" >SGOT</th>\n",
              "      <td id=\"T_4a78d_row7_col0\" class=\"data row7 col0\" >296.000000</td>\n",
              "      <td id=\"T_4a78d_row7_col1\" class=\"data row7 col1\" >124.615608</td>\n",
              "      <td id=\"T_4a78d_row7_col2\" class=\"data row7 col2\" >56.677988</td>\n",
              "      <td id=\"T_4a78d_row7_col3\" class=\"data row7 col3\" >26.350000</td>\n",
              "      <td id=\"T_4a78d_row7_col4\" class=\"data row7 col4\" >83.700000</td>\n",
              "      <td id=\"T_4a78d_row7_col5\" class=\"data row7 col5\" >117.000000</td>\n",
              "      <td id=\"T_4a78d_row7_col6\" class=\"data row7 col6\" >153.450000</td>\n",
              "      <td id=\"T_4a78d_row7_col7\" class=\"data row7 col7\" >457.250000</td>\n",
              "    </tr>\n",
              "    <tr>\n",
              "      <th id=\"T_4a78d_level0_row8\" class=\"row_heading level0 row8\" >Tryglicerides</th>\n",
              "      <td id=\"T_4a78d_row8_col0\" class=\"data row8 col0\" >269.000000</td>\n",
              "      <td id=\"T_4a78d_row8_col1\" class=\"data row8 col1\" >126.338290</td>\n",
              "      <td id=\"T_4a78d_row8_col2\" class=\"data row8 col2\" >65.861915</td>\n",
              "      <td id=\"T_4a78d_row8_col3\" class=\"data row8 col3\" >33.000000</td>\n",
              "      <td id=\"T_4a78d_row8_col4\" class=\"data row8 col4\" >86.000000</td>\n",
              "      <td id=\"T_4a78d_row8_col5\" class=\"data row8 col5\" >111.000000</td>\n",
              "      <td id=\"T_4a78d_row8_col6\" class=\"data row8 col6\" >152.000000</td>\n",
              "      <td id=\"T_4a78d_row8_col7\" class=\"data row8 col7\" >598.000000</td>\n",
              "    </tr>\n",
              "    <tr>\n",
              "      <th id=\"T_4a78d_level0_row9\" class=\"row_heading level0 row9\" >Platelets</th>\n",
              "      <td id=\"T_4a78d_row9_col0\" class=\"data row9 col0\" >387.000000</td>\n",
              "      <td id=\"T_4a78d_row9_col1\" class=\"data row9 col1\" >255.227390</td>\n",
              "      <td id=\"T_4a78d_row9_col2\" class=\"data row9 col2\" >98.726056</td>\n",
              "      <td id=\"T_4a78d_row9_col3\" class=\"data row9 col3\" >62.000000</td>\n",
              "      <td id=\"T_4a78d_row9_col4\" class=\"data row9 col4\" >183.000000</td>\n",
              "      <td id=\"T_4a78d_row9_col5\" class=\"data row9 col5\" >248.000000</td>\n",
              "      <td id=\"T_4a78d_row9_col6\" class=\"data row9 col6\" >317.500000</td>\n",
              "      <td id=\"T_4a78d_row9_col7\" class=\"data row9 col7\" >721.000000</td>\n",
              "    </tr>\n",
              "    <tr>\n",
              "      <th id=\"T_4a78d_level0_row10\" class=\"row_heading level0 row10\" >Prothrombin</th>\n",
              "      <td id=\"T_4a78d_row10_col0\" class=\"data row10 col0\" >396.000000</td>\n",
              "      <td id=\"T_4a78d_row10_col1\" class=\"data row10 col1\" >10.729293</td>\n",
              "      <td id=\"T_4a78d_row10_col2\" class=\"data row10 col2\" >0.980287</td>\n",
              "      <td id=\"T_4a78d_row10_col3\" class=\"data row10 col3\" >9.000000</td>\n",
              "      <td id=\"T_4a78d_row10_col4\" class=\"data row10 col4\" >10.000000</td>\n",
              "      <td id=\"T_4a78d_row10_col5\" class=\"data row10 col5\" >10.600000</td>\n",
              "      <td id=\"T_4a78d_row10_col6\" class=\"data row10 col6\" >11.100000</td>\n",
              "      <td id=\"T_4a78d_row10_col7\" class=\"data row10 col7\" >18.000000</td>\n",
              "    </tr>\n",
              "    <tr>\n",
              "      <th id=\"T_4a78d_level0_row11\" class=\"row_heading level0 row11\" >Stage</th>\n",
              "      <td id=\"T_4a78d_row11_col0\" class=\"data row11 col0\" >391.000000</td>\n",
              "      <td id=\"T_4a78d_row11_col1\" class=\"data row11 col1\" >3.132992</td>\n",
              "      <td id=\"T_4a78d_row11_col2\" class=\"data row11 col2\" >0.766418</td>\n",
              "      <td id=\"T_4a78d_row11_col3\" class=\"data row11 col3\" >2.000000</td>\n",
              "      <td id=\"T_4a78d_row11_col4\" class=\"data row11 col4\" >3.000000</td>\n",
              "      <td id=\"T_4a78d_row11_col5\" class=\"data row11 col5\" >3.000000</td>\n",
              "      <td id=\"T_4a78d_row11_col6\" class=\"data row11 col6\" >4.000000</td>\n",
              "      <td id=\"T_4a78d_row11_col7\" class=\"data row11 col7\" >4.000000</td>\n",
              "    </tr>\n",
              "  </tbody>\n",
              "</table>\n"
            ]
          },
          "metadata": {},
          "execution_count": 10
        }
      ]
    },
    {
      "cell_type": "markdown",
      "source": [
        "The numerical attributes are at varying range. We will perform feature scaling later which is required for models which does distance based calculation."
      ],
      "metadata": {
        "id": "GoqAVaSULvS-"
      }
    },
    {
      "cell_type": "markdown",
      "source": [
        "## Work on missing values\n",
        "First lets check number of null values in each column."
      ],
      "metadata": {
        "id": "UCpUC-u0KWzq"
      }
    },
    {
      "cell_type": "code",
      "source": [
        "a = cir.isna().sum()\n",
        "sns.barplot(y=a.index, x=a.values,palette=\"flare\")\n",
        "plt.title(\"Missing value count\")\n",
        "plt.xlabel(\"Columns\")\n",
        "plt.ylabel(\"Columns\")"
      ],
      "metadata": {
        "colab": {
          "base_uri": "https://localhost:8080/",
          "height": 490
        },
        "id": "BvlZwoY-vpH6",
        "outputId": "5fa2ceaa-b860-4529-a0bd-da8bb387425a"
      },
      "execution_count": 11,
      "outputs": [
        {
          "output_type": "execute_result",
          "data": {
            "text/plain": [
              "Text(0, 0.5, 'Columns')"
            ]
          },
          "metadata": {},
          "execution_count": 11
        },
        {
          "output_type": "display_data",
          "data": {
            "text/plain": [
              "<Figure size 640x480 with 1 Axes>"
            ],
            "image/png": "[encoded data removed]"
          },
          "metadata": {}
        }
      ]
    },
    {
      "cell_type": "markdown",
      "source": [
        "We got too many null values. Looking at number of rows, its not feasible to drop rows containing null values."
      ],
      "metadata": {
        "id": "cJ1uY9C4KaKe"
      }
    },
    {
      "cell_type": "code",
      "source": [
        "cir[cir[\"Stage\"].isna()]"
      ],
      "metadata": {
        "colab": {
          "base_uri": "https://localhost:8080/",
          "height": 302
        },
        "id": "xD5rt3aWKiQt",
        "outputId": "6fb989e4-fe08-4e35-e914-33af71610eb7"
      },
      "execution_count": 12,
      "outputs": [
        {
          "output_type": "execute_result",
          "data": {
            "text/plain": [
              "     N_Days Status Drug        Age Sex Ascites Hepatomegaly Spiders Edema  \\\n",
              "312    4062      C  NaN  60.041096   F     NaN          NaN     NaN     N   \n",
              "316    3030      C  NaN  62.043836   F     NaN          NaN     NaN     N   \n",
              "318      41      D  NaN  46.032877   F     NaN          NaN     NaN     N   \n",
              "321    2011      D  NaN  64.043836   F     NaN          NaN     NaN     N   \n",
              "333     466      D  NaN  56.038356   F     NaN          NaN     NaN     N   \n",
              "336    2286      D  NaN  56.038356   F     NaN          NaN     NaN     N   \n",
              "\n",
              "     Bilirubin  Cholesterol  Albumin  Copper  Alk_Phos  SGOT  Tryglicerides  \\\n",
              "312        0.7          NaN     3.65     NaN       NaN   NaN            NaN   \n",
              "316        0.8          NaN     2.48     NaN       NaN   NaN            NaN   \n",
              "318        5.0          NaN     2.93     NaN       NaN   NaN            NaN   \n",
              "321        1.1          NaN     3.69     NaN       NaN   NaN            NaN   \n",
              "333        7.1          NaN     3.51     NaN       NaN   NaN            NaN   \n",
              "336        1.8          NaN     3.64     NaN       NaN   NaN            NaN   \n",
              "\n",
              "     Platelets  Prothrombin  Stage  \n",
              "312      378.0         11.0    NaN  \n",
              "316      273.0         10.0    NaN  \n",
              "318      260.0         10.4    NaN  \n",
              "321      139.0         10.5    NaN  \n",
              "333      721.0         11.8    NaN  \n",
              "336      141.0         10.0    NaN  "
            ],
            "text/html": [
              "\n",
              "  <div id=\"df-d47b1d24-36d2-45bc-91bb-4a9236e67bb2\">\n",
              "    <div class=\"colab-df-container\">\n",
              "      <div>\n",
              "<style scoped>\n",
              "    .dataframe tbody tr th:only-of-type {\n",
              "        vertical-align: middle;\n",
              "    }\n",
              "\n",
              "    .dataframe tbody tr th {\n",
              "        vertical-align: top;\n",
              "    }\n",
              "\n",
              "    .dataframe thead th {\n",
              "        text-align: right;\n",
              "    }\n",
              "</style>\n",
              "<table border=\"1\" class=\"dataframe\">\n",
              "  <thead>\n",
              "    <tr style=\"text-align: right;\">\n",
              "      <th></th>\n",
              "      <th>N_Days</th>\n",
              "      <th>Status</th>\n",
              "      <th>Drug</th>\n",
              "      <th>Age</th>\n",
              "      <th>Sex</th>\n",
              "      <th>Ascites</th>\n",
              "      <th>Hepatomegaly</th>\n",
              "      <th>Spiders</th>\n",
              "      <th>Edema</th>\n",
              "      <th>Bilirubin</th>\n",
              "      <th>Cholesterol</th>\n",
              "      <th>Albumin</th>\n",
              "      <th>Copper</th>\n",
              "      <th>Alk_Phos</th>\n",
              "      <th>SGOT</th>\n",
              "      <th>Tryglicerides</th>\n",
              "      <th>Platelets</th>\n",
              "      <th>Prothrombin</th>\n",
              "      <th>Stage</th>\n",
              "    </tr>\n",
              "  </thead>\n",
              "  <tbody>\n",
              "    <tr>\n",
              "      <th>312</th>\n",
              "      <td>4062</td>\n",
              "      <td>C</td>\n",
              "      <td>NaN</td>\n",
              "      <td>60.041096</td>\n",
              "      <td>F</td>\n",
              "      <td>NaN</td>\n",
              "      <td>NaN</td>\n",
              "      <td>NaN</td>\n",
              "      <td>N</td>\n",
              "      <td>0.7</td>\n",
              "      <td>NaN</td>\n",
              "      <td>3.65</td>\n",
              "      <td>NaN</td>\n",
              "      <td>NaN</td>\n",
              "      <td>NaN</td>\n",
              "      <td>NaN</td>\n",
              "      <td>378.0</td>\n",
              "      <td>11.0</td>\n",
              "      <td>NaN</td>\n",
              "    </tr>\n",
              "    <tr>\n",
              "      <th>316</th>\n",
              "      <td>3030</td>\n",
              "      <td>C</td>\n",
              "      <td>NaN</td>\n",
              "      <td>62.043836</td>\n",
              "      <td>F</td>\n",
              "      <td>NaN</td>\n",
              "      <td>NaN</td>\n",
              "      <td>NaN</td>\n",
              "      <td>N</td>\n",
              "      <td>0.8</td>\n",
              "      <td>NaN</td>\n",
              "      <td>2.48</td>\n",
              "      <td>NaN</td>\n",
              "      <td>NaN</td>\n",
              "      <td>NaN</td>\n",
              "      <td>NaN</td>\n",
              "      <td>273.0</td>\n",
              "      <td>10.0</td>\n",
              "      <td>NaN</td>\n",
              "    </tr>\n",
              "    <tr>\n",
              "      <th>318</th>\n",
              "      <td>41</td>\n",
              "      <td>D</td>\n",
              "      <td>NaN</td>\n",
              "      <td>46.032877</td>\n",
              "      <td>F</td>\n",
              "      <td>NaN</td>\n",
              "      <td>NaN</td>\n",
              "      <td>NaN</td>\n",
              "      <td>N</td>\n",
              "      <td>5.0</td>\n",
              "      <td>NaN</td>\n",
              "      <td>2.93</td>\n",
              "      <td>NaN</td>\n",
              "      <td>NaN</td>\n",
              "      <td>NaN</td>\n",
              "      <td>NaN</td>\n",
              "      <td>260.0</td>\n",
              "      <td>10.4</td>\n",
              "      <td>NaN</td>\n",
              "    </tr>\n",
              "    <tr>\n",
              "      <th>321</th>\n",
              "      <td>2011</td>\n",
              "      <td>D</td>\n",
              "      <td>NaN</td>\n",
              "      <td>64.043836</td>\n",
              "      <td>F</td>\n",
              "      <td>NaN</td>\n",
              "      <td>NaN</td>\n",
              "      <td>NaN</td>\n",
              "      <td>N</td>\n",
              "      <td>1.1</td>\n",
              "      <td>NaN</td>\n",
              "      <td>3.69</td>\n",
              "      <td>NaN</td>\n",
              "      <td>NaN</td>\n",
              "      <td>NaN</td>\n",
              "      <td>NaN</td>\n",
              "      <td>139.0</td>\n",
              "      <td>10.5</td>\n",
              "      <td>NaN</td>\n",
              "    </tr>\n",
              "    <tr>\n",
              "      <th>333</th>\n",
              "      <td>466</td>\n",
              "      <td>D</td>\n",
              "      <td>NaN</td>\n",
              "      <td>56.038356</td>\n",
              "      <td>F</td>\n",
              "      <td>NaN</td>\n",
              "      <td>NaN</td>\n",
              "      <td>NaN</td>\n",
              "      <td>N</td>\n",
              "      <td>7.1</td>\n",
              "      <td>NaN</td>\n",
              "      <td>3.51</td>\n",
              "      <td>NaN</td>\n",
              "      <td>NaN</td>\n",
              "      <td>NaN</td>\n",
              "      <td>NaN</td>\n",
              "      <td>721.0</td>\n",
              "      <td>11.8</td>\n",
              "      <td>NaN</td>\n",
              "    </tr>\n",
              "    <tr>\n",
              "      <th>336</th>\n",
              "      <td>2286</td>\n",
              "      <td>D</td>\n",
              "      <td>NaN</td>\n",
              "      <td>56.038356</td>\n",
              "      <td>F</td>\n",
              "      <td>NaN</td>\n",
              "      <td>NaN</td>\n",
              "      <td>NaN</td>\n",
              "      <td>N</td>\n",
              "      <td>1.8</td>\n",
              "      <td>NaN</td>\n",
              "      <td>3.64</td>\n",
              "      <td>NaN</td>\n",
              "      <td>NaN</td>\n",
              "      <td>NaN</td>\n",
              "      <td>NaN</td>\n",
              "      <td>141.0</td>\n",
              "      <td>10.0</td>\n",
              "      <td>NaN</td>\n",
              "    </tr>\n",
              "  </tbody>\n",
              "</table>\n",
              "</div>\n",
              "      <button class=\"colab-df-convert\" onclick=\"convertToInteractive('df-d47b1d24-36d2-45bc-91bb-4a9236e67bb2')\"\n",
              "              title=\"Convert this dataframe to an interactive table.\"\n",
              "              style=\"display:none;\">\n",
              "        \n",
              "  <svg xmlns=\"http://www.w3.org/2000/svg\" height=\"24px\"viewBox=\"0 0 24 24\"\n",
              "       width=\"24px\">\n",
              "    <path d=\"M0 0h24v24H0V0z\" fill=\"none\"/>\n",
              "    <path d=\"M18.56 5.44l.94 2.06.94-2.06 2.06-.94-2.06-.94-.94-2.06-.94 2.06-2.06.94zm-11 1L8.5 8.5l.94-2.06 2.06-.94-2.06-.94L8.5 2.5l-.94 2.06-2.06.94zm10 10l.94 2.06.94-2.06 2.06-.94-2.06-.94-.94-2.06-.94 2.06-2.06.94z\"/><path d=\"M17.41 7.96l-1.37-1.37c-.4-.4-.92-.59-1.43-.59-.52 0-1.04.2-1.43.59L10.3 9.45l-7.72 7.72c-.78.78-.78 2.05 0 2.83L4 21.41c.39.39.9.59 1.41.59.51 0 1.02-.2 1.41-.59l7.78-7.78 2.81-2.81c.8-.78.8-2.07 0-2.86zM5.41 20L4 18.59l7.72-7.72 1.47 1.35L5.41 20z\"/>\n",
              "  </svg>\n",
              "      </button>\n",
              "      \n",
              "  <style>\n",
              "    .colab-df-container {\n",
              "      display:flex;\n",
              "      flex-wrap:wrap;\n",
              "      gap: 12px;\n",
              "    }\n",
              "\n",
              "    .colab-df-convert {\n",
              "      background-color: #E8F0FE;\n",
              "      border: none;\n",
              "      border-radius: 50%;\n",
              "      cursor: pointer;\n",
              "      display: none;\n",
              "      fill: #1967D2;\n",
              "      height: 32px;\n",
              "      padding: 0 0 0 0;\n",
              "      width: 32px;\n",
              "    }\n",
              "\n",
              "    .colab-df-convert:hover {\n",
              "      background-color: #E2EBFA;\n",
              "      box-shadow: 0px 1px 2px rgba(60, 64, 67, 0.3), 0px 1px 3px 1px rgba(60, 64, 67, 0.15);\n",
              "      fill: #174EA6;\n",
              "    }\n",
              "\n",
              "    [theme=dark] .colab-df-convert {\n",
              "      background-color: #3B4455;\n",
              "      fill: #D2E3FC;\n",
              "    }\n",
              "\n",
              "    [theme=dark] .colab-df-convert:hover {\n",
              "      background-color: #434B5C;\n",
              "      box-shadow: 0px 1px 3px 1px rgba(0, 0, 0, 0.15);\n",
              "      filter: drop-shadow(0px 1px 2px rgba(0, 0, 0, 0.3));\n",
              "      fill: #FFFFFF;\n",
              "    }\n",
              "  </style>\n",
              "\n",
              "      <script>\n",
              "        const buttonEl =\n",
              "          document.querySelector('#df-d47b1d24-36d2-45bc-91bb-4a9236e67bb2 button.colab-df-convert');\n",
              "        buttonEl.style.display =\n",
              "          google.colab.kernel.accessAllowed ? 'block' : 'none';\n",
              "\n",
              "        async function convertToInteractive(key) {\n",
              "          const element = document.querySelector('#df-d47b1d24-36d2-45bc-91bb-4a9236e67bb2');\n",
              "          const dataTable =\n",
              "            await google.colab.kernel.invokeFunction('convertToInteractive',\n",
              "                                                     [key], {});\n",
              "          if (!dataTable) return;\n",
              "\n",
              "          const docLinkHtml = 'Like what you see? Visit the ' +\n",
              "            '<a target=\"_blank\" href=https://colab.research.google.com/notebooks/data_table.ipynb>data table notebook</a>'\n",
              "            + ' to learn more about interactive tables.';\n",
              "          element.innerHTML = '';\n",
              "          dataTable['output_type'] = 'display_data';\n",
              "          await google.colab.output.renderOutput(dataTable, element);\n",
              "          const docLink = document.createElement('div');\n",
              "          docLink.innerHTML = docLinkHtml;\n",
              "          element.appendChild(docLink);\n",
              "        }\n",
              "      </script>\n",
              "    </div>\n",
              "  </div>\n",
              "  "
            ]
          },
          "metadata": {},
          "execution_count": 12
        }
      ]
    },
    {
      "cell_type": "markdown",
      "source": [
        "With too many missing values in rows where the target value is also missing, so lets drop rows with missing target value."
      ],
      "metadata": {
        "id": "8Wq-Bxz_KgGH"
      }
    },
    {
      "cell_type": "code",
      "source": [
        "#drop rows with missing target(stage) value\n",
        "cir.dropna(axis=0,subset=[\"Stage\"],inplace=True)"
      ],
      "metadata": {
        "id": "hkDa0j0iPJex"
      },
      "execution_count": 13,
      "outputs": []
    },
    {
      "cell_type": "code",
      "source": [
        "cir[\"Stage\"] = cir[\"Stage\"].astype(int)"
      ],
      "metadata": {
        "id": "779tFhZcPy98"
      },
      "execution_count": 14,
      "outputs": []
    },
    {
      "cell_type": "code",
      "source": [
        "#checking data distributions for numerical features\n",
        "#age doesn't have missing values, used here just to balance subplot\n",
        "missing_nums = [[\"Cholesterol\",\"Copper\",\"Alk_Phos\",\"SGOT\"],[\"Tryglicerides\",\"Platelets\",\"Prothrombin\",\"Age\"]]\n",
        "fig, axs = plt.subplots(2, 4,figsize=(10,5))\n",
        "plt.figure(figsize=(12,8))\n",
        "for i in range(2):\n",
        "  for j in range(4):\n",
        "    sns.kdeplot(cir,x=missing_nums[i][j], ax=axs[i,j])\n",
        "    axs[i,j].label_outer()\n",
        "    axs[i,j].set_xlabel('', fontsize=15)\n",
        "    axs[i,j].set_title(missing_nums[i][j])\n",
        "plt.show()"
      ],
      "metadata": {
        "colab": {
          "base_uri": "https://localhost:8080/",
          "height": 486
        },
        "id": "ZYJcrpVJ9NSO",
        "outputId": "74c7adf4-8790-4994-a523-8b719fa3ac7e"
      },
      "execution_count": 15,
      "outputs": [
        {
          "output_type": "display_data",
          "data": {
            "text/plain": [
              "<Figure size 1000x500 with 8 Axes>"
            ],
            "image/png": "[encoded data removed]"
          },
          "metadata": {}
        },
        {
          "output_type": "display_data",
          "data": {
            "text/plain": [
              "<Figure size 1200x800 with 0 Axes>"
            ]
          },
          "metadata": {}
        }
      ]
    },
    {
      "cell_type": "markdown",
      "source": [
        "All the numerical features with missing values follows gaussian distributiom with some degree of skewness, so lets use median to impute missing values in those colums.\n",
        "Also, some outlier can be seen, to fix skewness and outliers we will use log transformation(natural log being it a medical dataset)"
      ],
      "metadata": {
        "id": "0sK_m3Vg_TfX"
      }
    },
    {
      "cell_type": "code",
      "source": [
        "#impute numerical values with median\n",
        "numerical_columns = cir.select_dtypes(include=(['int64', 'float64'])).columns\n",
        "\n",
        "for c in numerical_columns:\n",
        "    if c!=\"Stage\":cir[c] = np.log(cir[c]) #log transformation to remove outliers\n",
        "    cir[c].fillna(cir[c].median(), inplace=True)"
      ],
      "metadata": {
        "id": "A_jgUad3P5qU"
      },
      "execution_count": 16,
      "outputs": []
    },
    {
      "cell_type": "code",
      "source": [
        "categorical_columns = cir.select_dtypes(include=('object')).columns\n",
        "\n",
        "for c in categorical_columns:\n",
        "    cir[c].fillna(cir[c].mode().values[0], inplace=True)"
      ],
      "metadata": {
        "id": "eh_avLEiQSt4"
      },
      "execution_count": 17,
      "outputs": []
    },
    {
      "cell_type": "markdown",
      "source": [
        "# Data Visualization\n",
        "Data vizualization is done in detail in another notebook.\n",
        "https://github.com/rupeshghimire7/Cirrhosis_EDA"
      ],
      "metadata": {
        "id": "PbohRe39FHiJ"
      }
    },
    {
      "cell_type": "code",
      "source": [
        "sns.countplot(x='Stage', hue='Sex', data=cir)\n",
        "plt.title(\"Sex wise cirrhosis stages\")"
      ],
      "metadata": {
        "colab": {
          "base_uri": "https://localhost:8080/",
          "height": 490
        },
        "id": "xY0AdHN5_waa",
        "outputId": "e89b6b6c-6c29-42db-d5bc-a104063e3074"
      },
      "execution_count": 18,
      "outputs": [
        {
          "output_type": "execute_result",
          "data": {
            "text/plain": [
              "Text(0.5, 1.0, 'Sex wise cirrhosis stages')"
            ]
          },
          "metadata": {},
          "execution_count": 18
        },
        {
          "output_type": "display_data",
          "data": {
            "text/plain": [
              "<Figure size 640x480 with 1 Axes>"
            ],
            "image/png": "[encoded data removed]"
          },
          "metadata": {}
        }
      ]
    },
    {
      "cell_type": "markdown",
      "source": [
        "It's clear that female aremore prone to liver cirrhosis at any stage\n",
        "One of the most common causes of liver cirrhosis is chronic alcohol consumption, and women may be more susceptible to alcohol-related liver damage than men. This is because women tend to have lower levels of an enzyme called alcohol dehydrogenase, which is involved in metabolizing alcohol. As a result, women may experience more severe liver damage from the same amount of alcohol consumption as men.\n",
        "\n",
        "But due to almost same number of cases in all stages for both male and female, this feature might not be the best one to predict cirrhosis stage."
      ],
      "metadata": {
        "id": "dI9DBLDXPZMF"
      }
    },
    {
      "cell_type": "code",
      "source": [
        "sns.countplot(x='Stage', hue='Drug', data=cir)"
      ],
      "metadata": {
        "colab": {
          "base_uri": "https://localhost:8080/",
          "height": 467
        },
        "id": "80G8GK-_GrEZ",
        "outputId": "6cc9f6c4-8967-4325-aca2-41e3582ca671"
      },
      "execution_count": null,
      "outputs": [
        {
          "output_type": "execute_result",
          "data": {
            "text/plain": [
              "<Axes: xlabel='Stage', ylabel='count'>"
            ]
          },
          "metadata": {},
          "execution_count": 24
        },
        {
          "output_type": "display_data",
          "data": {
            "text/plain": [
              "<Figure size 640x480 with 1 Axes>"
            ],
            "image/png": "[encoded data removed]"
          },
          "metadata": {}
        }
      ]
    },
    {
      "cell_type": "markdown",
      "source": [
        "#Column Encoding\n",
        "\n",
        "\n",
        "\n",
        "We have some categorical columns with string values.Many ML algorithms couldn't work with such values. So, lets use appropriate encoding to encode them. We should have used two types of encoding as below.\n",
        "One hot Encoding : Drugs,Sex\n",
        "Label Encoding : Status,Ascites, Hepatomegaly, Spiders, Edema\n",
        "\n",
        "But, even in the column \"Sex\", some ordinal relation can be seen, so its also encoded using label encoder.\n",
        "Also, the drug is label encoded based on their strength.\n",
        "A placebo is a substance or treatment that has no therapeutic effect. Placebo drugs are often used in medical research to help determine the effectiveness of a new treatment by comparing it to the placebo.\n",
        "\n",
        "Whereas D-penicillamine is used to balance excess body parameters like copper."
      ],
      "metadata": {
        "id": "ybE0cr8WFOyB"
      }
    },
    {
      "cell_type": "code",
      "source": [
        "cir['Sex'] = cir['Sex'].replace({'M':0, 'F':1})\n",
        "cir['Ascites'] = cir['Ascites'].replace({'N':0, 'Y':1})\n",
        "cir['Drug'] = cir['Drug'].replace({'D-penicillamine':1, 'Placebo':0})\n",
        "cir['Hepatomegaly'] = cir['Hepatomegaly'].replace({'N':0, 'Y':1})\n",
        "cir['Spiders'] = cir['Spiders'].replace({'N':0, 'Y':1})\n",
        "cir['Edema'] = cir['Edema'].replace({'N':0, 'Y':1, 'S':-1})\n",
        "cir['Status'] = cir['Status'].replace({'C':0, 'CL':1, 'D':-1})\n",
        "\n",
        "# cir['Stage'] = cir['Stage'].replace({2:0,3:1,4:2})\n",
        "# cir['Stage'] = cir['Stage'].replace({1:0,2:1,3:2,4:3})"
      ],
      "metadata": {
        "id": "MgtdWuRPQlws"
      },
      "execution_count": null,
      "outputs": []
    },
    {
      "cell_type": "markdown",
      "source": [
        "## Dataset balancing\n",
        "\n",
        "First, we will check number of samples in our dataset for each stage of liver cirrhosis."
      ],
      "metadata": {
        "id": "FB0YM74VJUeC"
      }
    },
    {
      "cell_type": "code",
      "source": [
        "def plot_target_count(data):\n",
        "  \"\"\"Function to plot number of samples in each class\"\"\"\n",
        "\n",
        "  plt.figure(figsize=(4,4))\n",
        "  counts = data.value_counts()\n",
        "\n",
        "  plt.bar(x = counts.index, height = counts, color = 'orange')\n",
        "  plt.xticks(rotation = 90)\n",
        "  plt.title('Target Counts')\n",
        "  plt.xlabel('Stages')\n",
        "  plt.ylabel('Counts')\n",
        "  plt.xticks([2,3,4], ['Stage 2', 'Stage 3', 'Stage 4'], rotation = 0)\n",
        "  plt.show()"
      ],
      "metadata": {
        "id": "t9GkiIF3JdIE"
      },
      "execution_count": null,
      "outputs": []
    },
    {
      "cell_type": "code",
      "source": [
        "plot_target_count(cir[\"Stage\"])"
      ],
      "metadata": {
        "colab": {
          "base_uri": "https://localhost:8080/",
          "height": 410
        },
        "id": "xWgf2XHTJhec",
        "outputId": "18a40464-8ad8-4c00-95d7-793d7a2e131e"
      },
      "execution_count": null,
      "outputs": [
        {
          "output_type": "display_data",
          "data": {
            "text/plain": [
              "<Figure size 400x400 with 1 Axes>"
            ],
            "image/png": "[encoded data removed]"
          },
          "metadata": {}
        }
      ]
    },
    {
      "cell_type": "markdown",
      "source": [
        "The dataset is  imbalanced with less number of rows for earlier stage of cirrhosis. We will perform oversampling using SMOTE(Synthetic Minority Oversampling Technique).\n",
        "\n",
        "Before performing oversamling we will split our existing dataset into train and test set. We will use 80-20 split for train and test set."
      ],
      "metadata": {
        "id": "vc9OFiIUKLm6"
      }
    },
    {
      "cell_type": "code",
      "source": [
        "# separate features and target\n",
        "X = cir.drop(['Status', 'Stage'], axis=1)\n",
        "y = cir['Stage']"
      ],
      "metadata": {
        "id": "hpwa_cEsKGbi"
      },
      "execution_count": null,
      "outputs": []
    },
    {
      "cell_type": "code",
      "source": [
        "X_train, X_test, y_train, y_test = train_test_split(X, y, test_size = 0.2, random_state = 23)"
      ],
      "metadata": {
        "id": "K-LjALvYKRgC"
      },
      "execution_count": null,
      "outputs": []
    },
    {
      "cell_type": "code",
      "source": [
        "#Using Smote for upsampling\n",
        "sm = SMOTE(k_neighbors = 3)\n",
        "X_train, y_train = sm.fit_resample(X_train, y_train)"
      ],
      "metadata": {
        "id": "lkiM3KgmQ8S_"
      },
      "execution_count": null,
      "outputs": []
    },
    {
      "cell_type": "code",
      "source": [
        "X_train.shape,y_train.shape"
      ],
      "metadata": {
        "colab": {
          "base_uri": "https://localhost:8080/"
        },
        "id": "3HeAjWWusV66",
        "outputId": "0da1911e-293b-40ac-d015-d3f7341b0e03"
      },
      "execution_count": null,
      "outputs": [
        {
          "output_type": "execute_result",
          "data": {
            "text/plain": [
              "((363, 17), (363,))"
            ]
          },
          "metadata": {},
          "execution_count": 49
        }
      ]
    },
    {
      "cell_type": "markdown",
      "source": [
        "# Feature Scaling\n",
        "\n",
        "As we saw before, the numerical columns have varying range, so we will perform feature selection to scale them.\n",
        "\n",
        "We will experiment with two kind of scaler: StandardScaler and MinMax Scaler."
      ],
      "metadata": {
        "id": "rUMyC-H_KdOV"
      }
    },
    {
      "cell_type": "code",
      "source": [
        "# Using standard Scaler\n",
        "scaler = StandardScaler()\n",
        "scaler.fit(X_train)\n",
        "X_train = scaler.transform(X_train)\n",
        "X_test = scaler.transform(X_test)"
      ],
      "metadata": {
        "id": "mS8qUeCRRUiO"
      },
      "execution_count": null,
      "outputs": []
    },
    {
      "cell_type": "code",
      "source": [
        "# # Using MinMax Scaler\n",
        "# scaler = MinMaxScaler()\n",
        "# scaler.fit(X_train)\n",
        "# X_train = scaler.transform(X_train)\n",
        "# X_test = scaler.transform(X_test)"
      ],
      "metadata": {
        "id": "K1LY-yWqK8o6"
      },
      "execution_count": null,
      "outputs": []
    },
    {
      "cell_type": "markdown",
      "source": [
        "## Feature Selection\n",
        " Our dataset\n",
        "has a comparatively more number of features considering the number of records. So, in order to\n",
        "select the best feature, we will use a statistical method called the ANOVA test."
      ],
      "metadata": {
        "id": "z5fhqiAyLPnz"
      }
    },
    {
      "cell_type": "code",
      "source": [
        "from sklearn.feature_selection import SelectKBest\n",
        "from sklearn.feature_selection import f_classif"
      ],
      "metadata": {
        "id": "uDg32YksRkLs"
      },
      "execution_count": null,
      "outputs": []
    },
    {
      "cell_type": "code",
      "source": [
        "best = SelectKBest( score_func = f_classif, k = 12)\n",
        "best.fit(X_train,y_train)"
      ],
      "metadata": {
        "colab": {
          "base_uri": "https://localhost:8080/",
          "height": 75
        },
        "id": "iPeV4THERqJi",
        "outputId": "f7ac2d06-43ef-4af3-cf3d-aab03535108d"
      },
      "execution_count": null,
      "outputs": [
        {
          "output_type": "execute_result",
          "data": {
            "text/plain": [
              "SelectKBest(k=12)"
            ],
            "text/html": [
              "<style>#sk-container-id-1 {color: black;background-color: white;}#sk-container-id-1 pre{padding: 0;}#sk-container-id-1 div.sk-toggleable {background-color: white;}#sk-container-id-1 label.sk-toggleable__label {cursor: pointer;display: block;width: 100%;margin-bottom: 0;padding: 0.3em;box-sizing: border-box;text-align: center;}#sk-container-id-1 label.sk-toggleable__label-arrow:before {content: \"▸\";float: left;margin-right: 0.25em;color: #696969;}#sk-container-id-1 label.sk-toggleable__label-arrow:hover:before {color: black;}#sk-container-id-1 div.sk-estimator:hover label.sk-toggleable__label-arrow:before {color: black;}#sk-container-id-1 div.sk-toggleable__content {max-height: 0;max-width: 0;overflow: hidden;text-align: left;background-color: #f0f8ff;}#sk-container-id-1 div.sk-toggleable__content pre {margin: 0.2em;color: black;border-radius: 0.25em;background-color: #f0f8ff;}#sk-container-id-1 input.sk-toggleable__control:checked~div.sk-toggleable__content {max-height: 200px;max-width: 100%;overflow: auto;}#sk-container-id-1 input.sk-toggleable__control:checked~label.sk-toggleable__label-arrow:before {content: \"▾\";}#sk-container-id-1 div.sk-estimator input.sk-toggleable__control:checked~label.sk-toggleable__label {background-color: #d4ebff;}#sk-container-id-1 div.sk-label input.sk-toggleable__control:checked~label.sk-toggleable__label {background-color: #d4ebff;}#sk-container-id-1 input.sk-hidden--visually {border: 0;clip: rect(1px 1px 1px 1px);clip: rect(1px, 1px, 1px, 1px);height: 1px;margin: -1px;overflow: hidden;padding: 0;position: absolute;width: 1px;}#sk-container-id-1 div.sk-estimator {font-family: monospace;background-color: #f0f8ff;border: 1px dotted black;border-radius: 0.25em;box-sizing: border-box;margin-bottom: 0.5em;}#sk-container-id-1 div.sk-estimator:hover {background-color: #d4ebff;}#sk-container-id-1 div.sk-parallel-item::after {content: \"\";width: 100%;border-bottom: 1px solid gray;flex-grow: 1;}#sk-container-id-1 div.sk-label:hover label.sk-toggleable__label {background-color: #d4ebff;}#sk-container-id-1 div.sk-serial::before {content: \"\";position: absolute;border-left: 1px solid gray;box-sizing: border-box;top: 0;bottom: 0;left: 50%;z-index: 0;}#sk-container-id-1 div.sk-serial {display: flex;flex-direction: column;align-items: center;background-color: white;padding-right: 0.2em;padding-left: 0.2em;position: relative;}#sk-container-id-1 div.sk-item {position: relative;z-index: 1;}#sk-container-id-1 div.sk-parallel {display: flex;align-items: stretch;justify-content: center;background-color: white;position: relative;}#sk-container-id-1 div.sk-item::before, #sk-container-id-1 div.sk-parallel-item::before {content: \"\";position: absolute;border-left: 1px solid gray;box-sizing: border-box;top: 0;bottom: 0;left: 50%;z-index: -1;}#sk-container-id-1 div.sk-parallel-item {display: flex;flex-direction: column;z-index: 1;position: relative;background-color: white;}#sk-container-id-1 div.sk-parallel-item:first-child::after {align-self: flex-end;width: 50%;}#sk-container-id-1 div.sk-parallel-item:last-child::after {align-self: flex-start;width: 50%;}#sk-container-id-1 div.sk-parallel-item:only-child::after {width: 0;}#sk-container-id-1 div.sk-dashed-wrapped {border: 1px dashed gray;margin: 0 0.4em 0.5em 0.4em;box-sizing: border-box;padding-bottom: 0.4em;background-color: white;}#sk-container-id-1 div.sk-label label {font-family: monospace;font-weight: bold;display: inline-block;line-height: 1.2em;}#sk-container-id-1 div.sk-label-container {text-align: center;}#sk-container-id-1 div.sk-container {/* jupyter's `normalize.less` sets `[hidden] { display: none; }` but bootstrap.min.css set `[hidden] { display: none !important; }` so we also need the `!important` here to be able to override the default hidden behavior on the sphinx rendered scikit-learn.org. See: https://github.com/scikit-learn/scikit-learn/issues/21755 */display: inline-block !important;position: relative;}#sk-container-id-1 div.sk-text-repr-fallback {display: none;}</style><div id=\"sk-container-id-1\" class=\"sk-top-container\"><div class=\"sk-text-repr-fallback\"><pre>SelectKBest(k=12)</pre><b>In a Jupyter environment, please rerun this cell to show the HTML representation or trust the notebook. <br />On GitHub, the HTML representation is unable to render, please try loading this page with nbviewer.org.</b></div><div class=\"sk-container\" hidden><div class=\"sk-item\"><div class=\"sk-estimator sk-toggleable\"><input class=\"sk-toggleable__control sk-hidden--visually\" id=\"sk-estimator-id-1\" type=\"checkbox\" checked><label for=\"sk-estimator-id-1\" class=\"sk-toggleable__label sk-toggleable__label-arrow\">SelectKBest</label><div class=\"sk-toggleable__content\"><pre>SelectKBest(k=12)</pre></div></div></div></div></div>"
            ]
          },
          "metadata": {},
          "execution_count": 54
        }
      ]
    },
    {
      "cell_type": "code",
      "source": [
        "best_cols = best.get_support(indices=True)\n",
        "best_cols"
      ],
      "metadata": {
        "colab": {
          "base_uri": "https://localhost:8080/"
        },
        "id": "5Nlij6_rxjiM",
        "outputId": "f0073422-e43e-4c58-e1c6-17b3435e1798"
      },
      "execution_count": null,
      "outputs": [
        {
          "output_type": "execute_result",
          "data": {
            "text/plain": [
              "array([ 0,  2,  4,  5,  6,  8,  9, 10, 11, 14, 15, 16])"
            ]
          },
          "metadata": {},
          "execution_count": 55
        }
      ]
    },
    {
      "cell_type": "code",
      "source": [
        "best_train = X_train[:,best_cols]\n",
        "best_test = X_test[:,best_cols]"
      ],
      "metadata": {
        "id": "0zxWGgMNyNAZ"
      },
      "execution_count": null,
      "outputs": []
    },
    {
      "cell_type": "code",
      "source": [
        "scores = best.scores_\n",
        "pvalues = best.pvalues_\n",
        "cols = X.columns\n",
        "for idx in range(X.shape[1]):\n",
        "  print(cols[idx],scores[idx])"
      ],
      "metadata": {
        "colab": {
          "base_uri": "https://localhost:8080/"
        },
        "id": "YzDY-rYXxZKK",
        "outputId": "5eacfe12-79fc-440b-89e1-f58ffe28c772"
      },
      "execution_count": null,
      "outputs": [
        {
          "output_type": "stream",
          "name": "stdout",
          "text": [
            "N_Days 33.19016021764813\n",
            "Drug 0.45331266950794397\n",
            "Age 7.74342961736615\n",
            "Sex 0.38883349950149676\n",
            "Ascites 13.60301034807157\n",
            "Hepatomegaly 25.26663728514767\n",
            "Spiders 12.396694214876035\n",
            "Edema 0.5702217529039068\n",
            "Bilirubin 17.330413109420693\n",
            "Cholesterol 3.6378360850674127\n",
            "Albumin 27.376560677171554\n",
            "Copper 8.390251674969612\n",
            "Alk_Phos 0.31102125050320323\n",
            "SGOT 1.0663305808671784\n",
            "Tryglicerides 2.8523765755746213\n",
            "Platelets 12.399604097001152\n",
            "Prothrombin 27.301199100205487\n"
          ]
        }
      ]
    },
    {
      "cell_type": "code",
      "source": [
        "sns.barplot(y=cols,x=scores,palette=\"flare\")\n",
        "plt.title(\"Feature Importance with ANOVA TEST\")\n",
        "plt.xlabel(\"F-Score\")\n",
        "plt.ylabel(\"Features\")"
      ],
      "metadata": {
        "colab": {
          "base_uri": "https://localhost:8080/",
          "height": 490
        },
        "id": "UMNVcjeyLo2r",
        "outputId": "4c3f9ab4-6247-4351-9586-8a95b45ec55e"
      },
      "execution_count": null,
      "outputs": [
        {
          "output_type": "execute_result",
          "data": {
            "text/plain": [
              "Text(0, 0.5, 'Features')"
            ]
          },
          "metadata": {},
          "execution_count": 66
        },
        {
          "output_type": "display_data",
          "data": {
            "text/plain": [
              "<Figure size 640x480 with 1 Axes>"
            ],
            "image/png": "[encoded data removed]"
          },
          "metadata": {}
        }
      ]
    },
    {
      "cell_type": "markdown",
      "source": [
        "## Setup MLFlow"
      ],
      "metadata": {
        "id": "0Z7qwj3qYm5D"
      }
    },
    {
      "cell_type": "code",
      "source": [
        "!pip install mlflow\n",
        "!databricks configure --host https://community.cloud.databricks.com/"
      ],
      "metadata": {
        "id": "cTlFW8ZsYl1o"
      },
      "execution_count": null,
      "outputs": []
    },
    {
      "cell_type": "code",
      "source": [
        "%env ML_FLOW_EXP=<place you databrick experiment uri string here>"
      ],
      "metadata": {
        "id": "aBP_ar1-YtMC"
      },
      "execution_count": null,
      "outputs": []
    },
    {
      "cell_type": "code",
      "source": [
        "import os\n",
        "import mlflow\n",
        "mlflow.set_tracking_uri(\"databricks\")\n",
        "mlflow.set_experiment(os.environ['ML_FLOW_EXP'])"
      ],
      "metadata": {
        "id": "o4_ncBIPYw6W"
      },
      "execution_count": null,
      "outputs": []
    },
    {
      "cell_type": "code",
      "source": [
        "#function to track experiment results with mlflow\n",
        "def mlflow_track(model,exp_name,train_scores,test_scores):\n",
        "  #set name of experiment\n",
        "  params = model.get_params()#\n",
        "\n",
        "  with mlflow.start_run(run_name=exp_name):\n",
        "    mlflow.log_metric(\"recall_train\", train_scores[0])\n",
        "    mlflow.log_metric(\"precision_train\", train_scores[1])\n",
        "    mlflow.log_metric(\"f1_train\", train_scores[2])\n",
        "    mlflow.log_metric(\"accuracy_train\", train_scores[3])\n",
        "    mlflow.log_metric(\"recall_test\", test_scores[0])\n",
        "    mlflow.log_metric(\"precision_test\", test_scores[1])\n",
        "    mlflow.log_metric(\"f1_test\", test_scores[2])\n",
        "    mlflow.log_metric(\"accuracy_test\", test_scores[3])\n",
        "    mlflow.log_params(params)"
      ],
      "metadata": {
        "id": "6lgNeWeRYyb4"
      },
      "execution_count": null,
      "outputs": []
    },
    {
      "cell_type": "code",
      "source": [
        "from sklearn.metrics import f1_score, accuracy_score, confusion_matrix, recall_score, precision_score,classification_report"
      ],
      "metadata": {
        "id": "w5MnWUsefpQ_"
      },
      "execution_count": null,
      "outputs": []
    },
    {
      "cell_type": "code",
      "source": [
        "def evaluate_model(y_train,y_pred_train,y_test,y_pred_test):\n",
        "  print(\"-\"*30,\"FOR TRAIN SET\",\"-\"*30)\n",
        "  recall_train = recall_score(y_train,y_pred_train,average=\"macro\")\n",
        "  precision_train = precision_score(y_train,y_pred_train,average=\"macro\")\n",
        "  f1_train = f1_score(y_train,y_pred_train,average=\"macro\")\n",
        "  accuracy_train = accuracy_score(y_train,y_pred_train)\n",
        "  rep_train = classification_report(y_train,y_pred_train)\n",
        "  print(rep_train)\n",
        "  \n",
        "  print(\"-\"*30,\"FOR TEST SET\",\"-\"*30)\n",
        "  recall_test = recall_score(y_test,y_pred_test,average=\"macro\")\n",
        "  precision_test = precision_score(y_test,y_pred_test,average=\"macro\")\n",
        "  f1_test = f1_score(y_test,y_pred_test,average=\"macro\")\n",
        "  accuracy_test = accuracy_score(y_test,y_pred_test)\n",
        "  rep_test = classification_report(y_test,y_pred_test)\n",
        "  print(rep_test)\n",
        "  return (recall_train,precision_train,f1_train,accuracy_train), (recall_test,precision_test,f1_test,accuracy_test)"
      ],
      "metadata": {
        "id": "3uxMrYxlfAHE"
      },
      "execution_count": null,
      "outputs": []
    },
    {
      "cell_type": "code",
      "source": [
        "from sklearn.tree import DecisionTreeClassifier\n",
        "from sklearn.linear_model import LogisticRegression\n",
        "from sklearn.ensemble import RandomForestClassifier, AdaBoostClassifier,BaggingClassifier\n",
        "from xgboost import XGBClassifier\n",
        "from sklearn.neighbors import KNeighborsClassifier\n",
        "from sklearn.svm import SVC"
      ],
      "metadata": {
        "id": "EC5WPlUYfonZ"
      },
      "execution_count": null,
      "outputs": []
    },
    {
      "cell_type": "code",
      "source": [
        "log_reg = LogisticRegression(max_iter=500,random_state=28)\n",
        "log_reg.fit(best_train, y_train)\n",
        "\n",
        "log_pred = log_reg.predict(best_test)\n",
        "log_pred_train = log_reg.predict(best_train)\n",
        " \n",
        "train_scores,test_scores = evaluate_model(y_train,log_pred_train,y_test,log_pred)\n",
        "mlflow_track(log_reg,\"logistic_reg-500iter\",train_scores,test_scores)"
      ],
      "metadata": {
        "colab": {
          "base_uri": "https://localhost:8080/"
        },
        "id": "rewID2cefbey",
        "outputId": "c8f24416-9a51-448f-9017-68d0fdf062cd"
      },
      "execution_count": null,
      "outputs": [
        {
          "output_type": "stream",
          "name": "stdout",
          "text": [
            "------------------------------ FOR TRAIN SET ------------------------------\n",
            "              precision    recall  f1-score   support\n",
            "\n",
            "           2       0.57      0.64      0.61       121\n",
            "           3       0.49      0.37      0.42       121\n",
            "           4       0.62      0.70      0.66       121\n",
            "\n",
            "    accuracy                           0.57       363\n",
            "   macro avg       0.56      0.57      0.56       363\n",
            "weighted avg       0.56      0.57      0.56       363\n",
            "\n",
            "------------------------------ FOR TEST SET ------------------------------\n",
            "              precision    recall  f1-score   support\n",
            "\n",
            "           2       0.30      0.44      0.36        16\n",
            "           3       0.58      0.44      0.50        34\n",
            "           4       0.63      0.66      0.64        29\n",
            "\n",
            "    accuracy                           0.52        79\n",
            "   macro avg       0.50      0.51      0.50        79\n",
            "weighted avg       0.54      0.52      0.52        79\n",
            "\n"
          ]
        }
      ]
    },
    {
      "cell_type": "code",
      "source": [
        "dt = DecisionTreeClassifier(criterion=\"log_loss\",max_depth=50,random_state=20)\n",
        "dt.fit(best_train, y_train)\n",
        "\n",
        "dt_pred = dt.predict(best_test)\n",
        "dt_pred_train = dt.predict(best_train)\n",
        "\n",
        "train_scores,test_scores = evaluate_model(y_train,dt_pred_train,y_test,dt_pred)\n",
        "mlflow_track(log_reg,\"dtree\",train_scores,test_scores)"
      ],
      "metadata": {
        "colab": {
          "base_uri": "https://localhost:8080/"
        },
        "id": "koYNSh70fnda",
        "outputId": "339b2cf4-464c-435c-c536-63469ce602c8"
      },
      "execution_count": null,
      "outputs": [
        {
          "output_type": "stream",
          "name": "stdout",
          "text": [
            "------------------------------ FOR TRAIN SET ------------------------------\n",
            "              precision    recall  f1-score   support\n",
            "\n",
            "           2       1.00      1.00      1.00       121\n",
            "           3       1.00      1.00      1.00       121\n",
            "           4       1.00      1.00      1.00       121\n",
            "\n",
            "    accuracy                           1.00       363\n",
            "   macro avg       1.00      1.00      1.00       363\n",
            "weighted avg       1.00      1.00      1.00       363\n",
            "\n",
            "------------------------------ FOR TEST SET ------------------------------\n",
            "              precision    recall  f1-score   support\n",
            "\n",
            "           2       0.19      0.19      0.19        16\n",
            "           3       0.60      0.53      0.56        34\n",
            "           4       0.48      0.55      0.52        29\n",
            "\n",
            "    accuracy                           0.47        79\n",
            "   macro avg       0.42      0.42      0.42        79\n",
            "weighted avg       0.47      0.47      0.47        79\n",
            "\n"
          ]
        }
      ]
    },
    {
      "cell_type": "code",
      "source": [
        "rf = RandomForestClassifier(n_estimators=120,criterion=\"log_loss\",max_depth=10,min_samples_leaf=4,random_state=20)\n",
        "rf.fit(X_train, y_train)\n",
        "\n",
        "rf_pred = rf.predict(X_test)\n",
        "rf_pred_train = rf.predict(X_train)\n",
        "\n",
        "train_scores,test_scores = evaluate_model(y_train,rf_pred_train,y_test,rf_pred)\n",
        "mlflow_track(rf,\"rf-log_loss\",train_scores,test_scores)"
      ],
      "metadata": {
        "colab": {
          "base_uri": "https://localhost:8080/"
        },
        "id": "eoCbULY0uMy-",
        "outputId": "7ee97be5-df00-45f5-f992-9b78504398bc"
      },
      "execution_count": null,
      "outputs": [
        {
          "output_type": "stream",
          "name": "stdout",
          "text": [
            "------------------------------ FOR TRAIN SET ------------------------------\n",
            "              precision    recall  f1-score   support\n",
            "\n",
            "           2       0.95      0.91      0.93       121\n",
            "           3       0.93      0.93      0.93       121\n",
            "           4       0.90      0.93      0.92       121\n",
            "\n",
            "    accuracy                           0.93       363\n",
            "   macro avg       0.93      0.93      0.93       363\n",
            "weighted avg       0.93      0.93      0.93       363\n",
            "\n",
            "------------------------------ FOR TEST SET ------------------------------\n",
            "              precision    recall  f1-score   support\n",
            "\n",
            "           2       0.30      0.38      0.33        16\n",
            "           3       0.67      0.53      0.59        34\n",
            "           4       0.72      0.79      0.75        29\n",
            "\n",
            "    accuracy                           0.59        79\n",
            "   macro avg       0.56      0.57      0.56        79\n",
            "weighted avg       0.61      0.59      0.60        79\n",
            "\n"
          ]
        }
      ]
    },
    {
      "cell_type": "code",
      "source": [
        "rf = RandomForestClassifier(n_estimators=25,criterion=\"log_loss\",max_depth=25,min_samples_leaf=4,random_state=20)\n",
        "# rf = RandomForestClassifier()\n",
        "rf.fit(X_train, y_train)\n",
        "\n",
        "rf_pred = rf.predict(X_test)\n",
        "rf_pred_train = rf.predict(X_train)\n",
        "\n",
        "train_scores,test_scores = evaluate_model(y_train,rf_pred_train,y_test,rf_pred)\n",
        "mlflow_track(rf,\"rf2\",train_scores,test_scores)"
      ],
      "metadata": {
        "colab": {
          "base_uri": "https://localhost:8080/"
        },
        "id": "GqoIEDqgwVWr",
        "outputId": "3eaa4f41-ff5c-49ed-fe23-5c9bffef6080"
      },
      "execution_count": null,
      "outputs": [
        {
          "output_type": "stream",
          "name": "stdout",
          "text": [
            "------------------------------ FOR TRAIN SET ------------------------------\n",
            "              precision    recall  f1-score   support\n",
            "\n",
            "           2       0.92      0.88      0.90       121\n",
            "           3       0.90      0.92      0.91       121\n",
            "           4       0.90      0.93      0.91       121\n",
            "\n",
            "    accuracy                           0.91       363\n",
            "   macro avg       0.91      0.91      0.91       363\n",
            "weighted avg       0.91      0.91      0.91       363\n",
            "\n",
            "------------------------------ FOR TEST SET ------------------------------\n",
            "              precision    recall  f1-score   support\n",
            "\n",
            "           2       0.27      0.38      0.32        16\n",
            "           3       0.68      0.50      0.58        34\n",
            "           4       0.62      0.69      0.66        29\n",
            "\n",
            "    accuracy                           0.54        79\n",
            "   macro avg       0.53      0.52      0.52        79\n",
            "weighted avg       0.58      0.54      0.55        79\n",
            "\n"
          ]
        }
      ]
    },
    {
      "cell_type": "code",
      "source": [
        "bag = BaggingClassifier(rf,bootstrap_features=True,random_state=22)\n",
        "bag.fit(X_train, y_train)\n",
        "\n",
        "bag_pred = bag.predict(X_test)\n",
        "bag_pred_train = bag.predict(X_train)\n",
        "\n",
        "train_scores,test_scores = evaluate_model(y_train,bag_pred_train,y_test,bag_pred)\n",
        "mlflow_track(bag,\"bagging-rf\",train_scores,test_scores)"
      ],
      "metadata": {
        "colab": {
          "base_uri": "https://localhost:8080/"
        },
        "id": "cwjlPlHv8Dzd",
        "outputId": "10b0c409-2287-445c-f149-3788b30e7af0"
      },
      "execution_count": null,
      "outputs": [
        {
          "output_type": "stream",
          "name": "stdout",
          "text": [
            "------------------------------ FOR TRAIN SET ------------------------------\n",
            "              precision    recall  f1-score   support\n",
            "\n",
            "           2       0.83      0.85      0.84       121\n",
            "           3       0.85      0.78      0.81       121\n",
            "           4       0.84      0.88      0.86       121\n",
            "\n",
            "    accuracy                           0.84       363\n",
            "   macro avg       0.84      0.84      0.84       363\n",
            "weighted avg       0.84      0.84      0.84       363\n",
            "\n",
            "------------------------------ FOR TEST SET ------------------------------\n",
            "              precision    recall  f1-score   support\n",
            "\n",
            "           2       0.39      0.44      0.41        16\n",
            "           3       0.70      0.56      0.62        34\n",
            "           4       0.68      0.79      0.73        29\n",
            "\n",
            "    accuracy                           0.62        79\n",
            "   macro avg       0.59      0.60      0.59        79\n",
            "weighted avg       0.63      0.62      0.62        79\n",
            "\n"
          ]
        }
      ]
    },
    {
      "cell_type": "code",
      "source": [
        "bag_fs = BaggingClassifier(rf,bootstrap_features=True,random_state=22)\n",
        "bag_fs.fit(best_train, y_train)\n",
        "\n",
        "bag_fs_pred = bag_fs.predict(best_test)\n",
        "bag_fs_pred_train = bag_fs.predict(best_train)\n",
        "\n",
        "train_scores,test_scores = evaluate_model(y_train,bag_fs_pred_train,y_test,bag_fs_pred)\n",
        "mlflow_track(bag,\"bagging-rf featSel\",train_scores,test_scores)"
      ],
      "metadata": {
        "colab": {
          "base_uri": "https://localhost:8080/"
        },
        "id": "1AqjZlfIeLkO",
        "outputId": "2a8a9e1c-f11d-41f7-d8ab-2bd0b7c98c0d"
      },
      "execution_count": null,
      "outputs": [
        {
          "output_type": "stream",
          "name": "stdout",
          "text": [
            "------------------------------ FOR TRAIN SET ------------------------------\n",
            "              precision    recall  f1-score   support\n",
            "\n",
            "           2       0.78      0.85      0.81       121\n",
            "           3       0.84      0.71      0.77       121\n",
            "           4       0.80      0.85      0.82       121\n",
            "\n",
            "    accuracy                           0.80       363\n",
            "   macro avg       0.81      0.80      0.80       363\n",
            "weighted avg       0.81      0.80      0.80       363\n",
            "\n",
            "------------------------------ FOR TEST SET ------------------------------\n",
            "              precision    recall  f1-score   support\n",
            "\n",
            "           2       0.29      0.44      0.35        16\n",
            "           3       0.57      0.35      0.44        34\n",
            "           4       0.71      0.83      0.76        29\n",
            "\n",
            "    accuracy                           0.54        79\n",
            "   macro avg       0.52      0.54      0.52        79\n",
            "weighted avg       0.56      0.54      0.54        79\n",
            "\n"
          ]
        }
      ]
    },
    {
      "cell_type": "code",
      "source": [
        "ada = AdaBoostClassifier(n_estimators=50,random_state=20)\n",
        "ada.fit(X_train, y_train)\n",
        "\n",
        "ada_pred = ada.predict(X_test)\n",
        "ada_pred_train = ada.predict(X_train)\n",
        "\n",
        "train_scores,test_scores = evaluate_model(y_train,ada_pred_train,y_test,ada_pred)\n",
        "mlflow_track(ada,\"ada boost1\",train_scores,test_scores)"
      ],
      "metadata": {
        "colab": {
          "base_uri": "https://localhost:8080/"
        },
        "id": "EmpRNNHG2L42",
        "outputId": "ae29246d-be98-41fd-a88c-3bf1d7aea0c2"
      },
      "execution_count": null,
      "outputs": [
        {
          "output_type": "stream",
          "name": "stdout",
          "text": [
            "------------------------------ FOR TRAIN SET ------------------------------\n",
            "              precision    recall  f1-score   support\n",
            "\n",
            "           2       0.67      0.70      0.69       121\n",
            "           3       0.61      0.64      0.62       121\n",
            "           4       0.77      0.70      0.74       121\n",
            "\n",
            "    accuracy                           0.68       363\n",
            "   macro avg       0.68      0.68      0.68       363\n",
            "weighted avg       0.68      0.68      0.68       363\n",
            "\n",
            "------------------------------ FOR TEST SET ------------------------------\n",
            "              precision    recall  f1-score   support\n",
            "\n",
            "           2       0.38      0.38      0.38        16\n",
            "           3       0.66      0.68      0.67        34\n",
            "           4       0.68      0.66      0.67        29\n",
            "\n",
            "    accuracy                           0.61        79\n",
            "   macro avg       0.57      0.57      0.57        79\n",
            "weighted avg       0.61      0.61      0.61        79\n",
            "\n"
          ]
        }
      ]
    },
    {
      "cell_type": "code",
      "source": [
        "ada = AdaBoostClassifier(random_state=28)\n",
        "ada.fit(best_train, y_train)\n",
        "\n",
        "ada_pred = ada.predict(best_test)\n",
        "ada_pred_train = ada.predict(best_train)\n",
        "\n",
        "train_scores,test_scores  = evaluate_model(y_train,ada_pred_train,y_test,ada_pred)\n",
        "mlflow_track(ada,\"ada boost2- featSel\",train_scores,test_scores)"
      ],
      "metadata": {
        "colab": {
          "base_uri": "https://localhost:8080/"
        },
        "id": "1Exi04St5pKf",
        "outputId": "700b24e0-23fd-42fc-87e5-c74f15153bf9"
      },
      "execution_count": null,
      "outputs": [
        {
          "output_type": "stream",
          "name": "stdout",
          "text": [
            "------------------------------ FOR TRAIN SET ------------------------------\n",
            "              precision    recall  f1-score   support\n",
            "\n",
            "           2       0.71      0.68      0.69       121\n",
            "           3       0.63      0.61      0.62       121\n",
            "           4       0.73      0.79      0.76       121\n",
            "\n",
            "    accuracy                           0.69       363\n",
            "   macro avg       0.69      0.69      0.69       363\n",
            "weighted avg       0.69      0.69      0.69       363\n",
            "\n",
            "------------------------------ FOR TEST SET ------------------------------\n",
            "              precision    recall  f1-score   support\n",
            "\n",
            "           2       0.50      0.56      0.53        16\n",
            "           3       0.66      0.68      0.67        34\n",
            "           4       0.77      0.69      0.73        29\n",
            "\n",
            "    accuracy                           0.66        79\n",
            "   macro avg       0.64      0.64      0.64        79\n",
            "weighted avg       0.67      0.66      0.66        79\n",
            "\n"
          ]
        }
      ]
    },
    {
      "cell_type": "code",
      "source": [
        "svm = SVC(kernel=\"rbf\")\n",
        "svm.fit(best_train, y_train)\n",
        "\n",
        "svm_pred = svm.predict(best_test)\n",
        "svm_pred_train = svm.predict(best_train)\n",
        "\n",
        "train_scores,test_scores = evaluate_model(y_train,svm_pred_train,y_test,svm_pred)\n",
        "mlflow_track(svm,\"svm-feat sel\",train_scores,test_scores)"
      ],
      "metadata": {
        "colab": {
          "base_uri": "https://localhost:8080/"
        },
        "id": "yVx0MzEN3Rr6",
        "outputId": "c31ff7dd-f6aa-41b7-a1e2-c6f4b851cecc"
      },
      "execution_count": null,
      "outputs": [
        {
          "output_type": "stream",
          "name": "stdout",
          "text": [
            "------------------------------ FOR TRAIN SET ------------------------------\n",
            "              precision    recall  f1-score   support\n",
            "\n",
            "           2       0.68      0.74      0.71       121\n",
            "           3       0.70      0.61      0.65       121\n",
            "           4       0.77      0.80      0.79       121\n",
            "\n",
            "    accuracy                           0.72       363\n",
            "   macro avg       0.72      0.72      0.71       363\n",
            "weighted avg       0.72      0.72      0.71       363\n",
            "\n",
            "------------------------------ FOR TEST SET ------------------------------\n",
            "              precision    recall  f1-score   support\n",
            "\n",
            "           2       0.30      0.44      0.36        16\n",
            "           3       0.56      0.44      0.49        34\n",
            "           4       0.69      0.69      0.69        29\n",
            "\n",
            "    accuracy                           0.53        79\n",
            "   macro avg       0.52      0.52      0.51        79\n",
            "weighted avg       0.55      0.53      0.54        79\n",
            "\n"
          ]
        }
      ]
    },
    {
      "cell_type": "markdown",
      "source": [
        "Manual hypermeter tuning was done in most of these models."
      ],
      "metadata": {
        "id": "Pp5b1p5uHaO0"
      }
    },
    {
      "cell_type": "markdown",
      "source": [
        "## CONCLUSION\n",
        "\n",
        "![image.png](data:image/png;base64,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)\n",
        "\n",
        "The results of our liver cirrhosis stage prediction models were not very promising, with the best recall score of 69% on the train test and 64% for the test set with AdaBoost with decision tree model. Our model was trained on a dataset of 369 records, with each patient's data including age,\n",
        "gender and biomarkers from liver function test results.We used a variety of machine learning algorithms, including decision trees, random forests, bagging, adaboosting and support vector machines to build our prediction model. These results were obtained with only 3 stages after dropping records for stage 1 which is a normal healthy liver. \n",
        "\n",
        "The best obtained for stage 2, stage 3 and stage 4 are 56%,68% and 69% respectively. The higher\n",
        "recall for irreversible state is a good point, but the results are not sufficient to be used in a real\n",
        "world setting. The later stage of liver cirrhosis can be diagnosed easily with simple tests. So, the\n",
        "automated predictive system must be capable of detecting them at an earlier stage too.\n",
        "For this, we need to collect more consistent data which contains cases of earlier stage of cirrhosis\n",
        "too. Also, the use of more complex models like Neural Networks would definitely improve the\n",
        "results."
      ],
      "metadata": {
        "id": "gEQL1RQ0Ni7w"
      }
    }
  ]
}